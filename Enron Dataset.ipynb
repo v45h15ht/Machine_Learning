{
 "cells": [
  {
   "cell_type": "code",
   "execution_count": 1,
   "id": "380c9ef9",
   "metadata": {},
   "outputs": [],
   "source": [
    "import pandas as pd\n",
    "import numpy as np\n",
    "import matplotlib.pyplot as plt\n",
    "import seaborn as sns\n",
    "import email\n",
    "import warnings \n",
    "warnings.filterwarnings('ignore')\n",
    "# import parser"
   ]
  },
  {
   "cell_type": "code",
   "execution_count": 2,
   "id": "6ee2c533",
   "metadata": {},
   "outputs": [],
   "source": [
    "df = pd.read_csv('./input/enron/emails.csv', nrows=1000)"
   ]
  },
  {
   "cell_type": "code",
   "execution_count": 3,
   "id": "0ce551ea",
   "metadata": {},
   "outputs": [
    {
     "data": {
      "text/html": [
       "<div>\n",
       "<style scoped>\n",
       "    .dataframe tbody tr th:only-of-type {\n",
       "        vertical-align: middle;\n",
       "    }\n",
       "\n",
       "    .dataframe tbody tr th {\n",
       "        vertical-align: top;\n",
       "    }\n",
       "\n",
       "    .dataframe thead th {\n",
       "        text-align: right;\n",
       "    }\n",
       "</style>\n",
       "<table border=\"1\" class=\"dataframe\">\n",
       "  <thead>\n",
       "    <tr style=\"text-align: right;\">\n",
       "      <th></th>\n",
       "      <th>file</th>\n",
       "      <th>message</th>\n",
       "    </tr>\n",
       "  </thead>\n",
       "  <tbody>\n",
       "    <tr>\n",
       "      <th>0</th>\n",
       "      <td>allen-p/_sent_mail/1.</td>\n",
       "      <td>Message-ID: &lt;18782981.1075855378110.JavaMail.e...</td>\n",
       "    </tr>\n",
       "    <tr>\n",
       "      <th>1</th>\n",
       "      <td>allen-p/_sent_mail/10.</td>\n",
       "      <td>Message-ID: &lt;15464986.1075855378456.JavaMail.e...</td>\n",
       "    </tr>\n",
       "    <tr>\n",
       "      <th>2</th>\n",
       "      <td>allen-p/_sent_mail/100.</td>\n",
       "      <td>Message-ID: &lt;24216240.1075855687451.JavaMail.e...</td>\n",
       "    </tr>\n",
       "    <tr>\n",
       "      <th>3</th>\n",
       "      <td>allen-p/_sent_mail/1000.</td>\n",
       "      <td>Message-ID: &lt;13505866.1075863688222.JavaMail.e...</td>\n",
       "    </tr>\n",
       "    <tr>\n",
       "      <th>4</th>\n",
       "      <td>allen-p/_sent_mail/1001.</td>\n",
       "      <td>Message-ID: &lt;30922949.1075863688243.JavaMail.e...</td>\n",
       "    </tr>\n",
       "    <tr>\n",
       "      <th>...</th>\n",
       "      <td>...</td>\n",
       "      <td>...</td>\n",
       "    </tr>\n",
       "    <tr>\n",
       "      <th>995</th>\n",
       "      <td>allen-p/all_documents/458.</td>\n",
       "      <td>Message-ID: &lt;20430828.1075855696096.JavaMail.e...</td>\n",
       "    </tr>\n",
       "    <tr>\n",
       "      <th>996</th>\n",
       "      <td>allen-p/all_documents/459.</td>\n",
       "      <td>Message-ID: &lt;18425275.1075855696118.JavaMail.e...</td>\n",
       "    </tr>\n",
       "    <tr>\n",
       "      <th>997</th>\n",
       "      <td>allen-p/all_documents/46.</td>\n",
       "      <td>Message-ID: &lt;24036204.1075855666506.JavaMail.e...</td>\n",
       "    </tr>\n",
       "    <tr>\n",
       "      <th>998</th>\n",
       "      <td>allen-p/all_documents/460.</td>\n",
       "      <td>Message-ID: &lt;33307764.1075855696139.JavaMail.e...</td>\n",
       "    </tr>\n",
       "    <tr>\n",
       "      <th>999</th>\n",
       "      <td>allen-p/all_documents/461.</td>\n",
       "      <td>Message-ID: &lt;15009418.1075855696162.JavaMail.e...</td>\n",
       "    </tr>\n",
       "  </tbody>\n",
       "</table>\n",
       "<p>1000 rows × 2 columns</p>\n",
       "</div>"
      ],
      "text/plain": [
       "                           file  \\\n",
       "0         allen-p/_sent_mail/1.   \n",
       "1        allen-p/_sent_mail/10.   \n",
       "2       allen-p/_sent_mail/100.   \n",
       "3      allen-p/_sent_mail/1000.   \n",
       "4      allen-p/_sent_mail/1001.   \n",
       "..                          ...   \n",
       "995  allen-p/all_documents/458.   \n",
       "996  allen-p/all_documents/459.   \n",
       "997   allen-p/all_documents/46.   \n",
       "998  allen-p/all_documents/460.   \n",
       "999  allen-p/all_documents/461.   \n",
       "\n",
       "                                               message  \n",
       "0    Message-ID: <18782981.1075855378110.JavaMail.e...  \n",
       "1    Message-ID: <15464986.1075855378456.JavaMail.e...  \n",
       "2    Message-ID: <24216240.1075855687451.JavaMail.e...  \n",
       "3    Message-ID: <13505866.1075863688222.JavaMail.e...  \n",
       "4    Message-ID: <30922949.1075863688243.JavaMail.e...  \n",
       "..                                                 ...  \n",
       "995  Message-ID: <20430828.1075855696096.JavaMail.e...  \n",
       "996  Message-ID: <18425275.1075855696118.JavaMail.e...  \n",
       "997  Message-ID: <24036204.1075855666506.JavaMail.e...  \n",
       "998  Message-ID: <33307764.1075855696139.JavaMail.e...  \n",
       "999  Message-ID: <15009418.1075855696162.JavaMail.e...  \n",
       "\n",
       "[1000 rows x 2 columns]"
      ]
     },
     "execution_count": 3,
     "metadata": {},
     "output_type": "execute_result"
    }
   ],
   "source": [
    "df"
   ]
  },
  {
   "cell_type": "code",
   "execution_count": 4,
   "id": "010ed4e0",
   "metadata": {},
   "outputs": [
    {
     "data": {
      "text/plain": [
       "(1000, 2)"
      ]
     },
     "execution_count": 4,
     "metadata": {},
     "output_type": "execute_result"
    }
   ],
   "source": [
    "df.shape"
   ]
  },
  {
   "cell_type": "code",
   "execution_count": 5,
   "id": "d8ca29cd",
   "metadata": {},
   "outputs": [
    {
     "name": "stdout",
     "output_type": "stream",
     "text": [
      "allen-p/_sent_mail/10.\n",
      "\n",
      "\n",
      "Message-ID: <15464986.1075855378456.JavaMail.evans@thyme>\n",
      "Date: Fri, 4 May 2001 13:51:00 -0700 (PDT)\n",
      "From: phillip.allen@enron.com\n",
      "To: john.lavorato@enron.com\n",
      "Subject: Re:\n",
      "Mime-Version: 1.0\n",
      "Content-Type: text/plain; charset=us-ascii\n",
      "Content-Transfer-Encoding: 7bit\n",
      "X-From: Phillip K Allen\n",
      "X-To: John J Lavorato <John J Lavorato/ENRON@enronXgate@ENRON>\n",
      "X-cc: \n",
      "X-bcc: \n",
      "X-Folder: \\Phillip_Allen_Jan2002_1\\Allen, Phillip K.\\'Sent Mail\n",
      "X-Origin: Allen-P\n",
      "X-FileName: pallen (Non-Privileged).pst\n",
      "\n",
      "Traveling to have a business meeting takes the fun out of the trip.  Especially if you have to prepare a presentation.  I would suggest holding the business plan meetings here then take a trip without any formal business meetings.  I would even try and get some honest opinions on whether a trip is even desired or necessary.\n",
      "\n",
      "As far as the business meetings, I think it would be more productive to try and stimulate discussions across the different groups about what is working and what is not.  Too often the presenter speaks and the others are quiet just waiting for their turn.   The meetings might be better if held in a round table discussion format.  \n",
      "\n",
      "My suggestion for where to go is Austin.  Play golf and rent a ski boat and jet ski's.  Flying somewhere takes too much time.\n",
      "\n"
     ]
    }
   ],
   "source": [
    "print(df.loc[1]['file'])\n",
    "print(\"\\n\")\n",
    "print(df.loc[1]['message'])"
   ]
  },
  {
   "cell_type": "code",
   "execution_count": 6,
   "id": "73948833",
   "metadata": {},
   "outputs": [
    {
     "data": {
      "text/plain": [
       "[('Message-ID', '<15464986.1075855378456.JavaMail.evans@thyme>'),\n",
       " ('Date', 'Fri, 4 May 2001 13:51:00 -0700 (PDT)'),\n",
       " ('From', 'phillip.allen@enron.com'),\n",
       " ('To', 'john.lavorato@enron.com'),\n",
       " ('Subject', 'Re:'),\n",
       " ('Mime-Version', '1.0'),\n",
       " ('Content-Type', 'text/plain; charset=us-ascii'),\n",
       " ('Content-Transfer-Encoding', '7bit'),\n",
       " ('X-From', 'Phillip K Allen'),\n",
       " ('X-To', 'John J Lavorato <John J Lavorato/ENRON@enronXgate@ENRON>'),\n",
       " ('X-cc', ''),\n",
       " ('X-bcc', ''),\n",
       " ('X-Folder', \"\\\\Phillip_Allen_Jan2002_1\\\\Allen, Phillip K.\\\\'Sent Mail\"),\n",
       " ('X-Origin', 'Allen-P'),\n",
       " ('X-FileName', 'pallen (Non-Privileged).pst')]"
      ]
     },
     "execution_count": 6,
     "metadata": {},
     "output_type": "execute_result"
    }
   ],
   "source": [
    "message = df.loc[1]['message']\n",
    "emails = email.message_from_string(message)\n",
    "emails.items()"
   ]
  },
  {
   "cell_type": "code",
   "execution_count": 7,
   "id": "2d0f37c5",
   "metadata": {},
   "outputs": [
    {
     "data": {
      "text/plain": [
       "\"Traveling to have a business meeting takes the fun out of the trip.  Especially if you have to prepare a presentation.  I would suggest holding the business plan meetings here then take a trip without any formal business meetings.  I would even try and get some honest opinions on whether a trip is even desired or necessary.\\n\\nAs far as the business meetings, I think it would be more productive to try and stimulate discussions across the different groups about what is working and what is not.  Too often the presenter speaks and the others are quiet just waiting for their turn.   The meetings might be better if held in a round table discussion format.  \\n\\nMy suggestion for where to go is Austin.  Play golf and rent a ski boat and jet ski's.  Flying somewhere takes too much time.\\n\""
      ]
     },
     "execution_count": 7,
     "metadata": {},
     "output_type": "execute_result"
    }
   ],
   "source": [
    "emails.get_payload()"
   ]
  },
  {
   "cell_type": "code",
   "execution_count": 8,
   "id": "8399a38e",
   "metadata": {},
   "outputs": [
    {
     "data": {
      "text/plain": [
       "'Fri, 4 May 2001 13:51:00 -0700 (PDT)'"
      ]
     },
     "execution_count": 8,
     "metadata": {},
     "output_type": "execute_result"
    }
   ],
   "source": [
    "emails.get(\"Date\")"
   ]
  },
  {
   "cell_type": "code",
   "execution_count": 9,
   "id": "54caea8f",
   "metadata": {},
   "outputs": [],
   "source": [
    "def extract_data(feature,df):\n",
    "    column= []\n",
    "    for row in df:\n",
    "        e = email.message_from_string(row)\n",
    "        column.append(e.get(feature))\n",
    "    return column "
   ]
  },
  {
   "cell_type": "code",
   "execution_count": 10,
   "id": "aea5ae80",
   "metadata": {},
   "outputs": [],
   "source": [
    "def get_email_body(data):\n",
    "    column =[]\n",
    "    for msg in data:\n",
    "        e = email.message_from_string(msg)\n",
    "        column.append(e.get_payload())\n",
    "    return column"
   ]
  },
  {
   "cell_type": "code",
   "execution_count": 11,
   "id": "474e49be",
   "metadata": {},
   "outputs": [],
   "source": [
    "df['Date'] = extract_data(\"Date\",df['message'])\n",
    "df['Subject'] = extract_data(\"Subject\",df['message'])\n",
    "df['X-From'] = extract_data(\"X-From\",df['message'])\n",
    "df['X-To'] = extract_data(\"X-To\",df['message'])\n",
    "df['X-Folder'] = extract_data(\"X-Folder\",df['message'])\n",
    "df['body'] = get_email_body(df['message'])"
   ]
  },
  {
   "cell_type": "code",
   "execution_count": 13,
   "id": "553b8b34",
   "metadata": {},
   "outputs": [],
   "source": [
    "# Employee names\n",
    "def emp_name(data):\n",
    "    column=[]\n",
    "    for msg in data:\n",
    "        column.append(msg.split(\"/\")[0])\n",
    "    return column\n",
    "\n",
    "df['Employee'] = emp_name(df['file'])"
   ]
  },
  {
   "cell_type": "code",
   "execution_count": 14,
   "id": "3b3ee68b",
   "metadata": {},
   "outputs": [
    {
     "name": "stdout",
     "output_type": "stream",
     "text": [
      "number of folder : 1000\n",
      "number of unique folder : 5\n"
     ]
    }
   ],
   "source": [
    "# find the unique folder\n",
    "print(\"number of folder :\",df.shape[0])\n",
    "print(\"number of unique folder :\",df['X-Folder'].unique().shape[0])"
   ]
  },
  {
   "cell_type": "code",
   "execution_count": 15,
   "id": "05010379",
   "metadata": {},
   "outputs": [
    {
     "data": {
      "text/html": [
       "<div>\n",
       "<style scoped>\n",
       "    .dataframe tbody tr th:only-of-type {\n",
       "        vertical-align: middle;\n",
       "    }\n",
       "\n",
       "    .dataframe tbody tr th {\n",
       "        vertical-align: top;\n",
       "    }\n",
       "\n",
       "    .dataframe thead th {\n",
       "        text-align: right;\n",
       "    }\n",
       "</style>\n",
       "<table border=\"1\" class=\"dataframe\">\n",
       "  <thead>\n",
       "    <tr style=\"text-align: right;\">\n",
       "      <th></th>\n",
       "      <th>Folder_name</th>\n",
       "      <th>Count</th>\n",
       "    </tr>\n",
       "  </thead>\n",
       "  <tbody>\n",
       "    <tr>\n",
       "      <th>0</th>\n",
       "      <td>\\Phillip_Allen_Dec2000\\Notes Folders\\'sent mail</td>\n",
       "      <td>301</td>\n",
       "    </tr>\n",
       "    <tr>\n",
       "      <th>1</th>\n",
       "      <td>\\Phillip_Allen_Dec2000\\Notes Folders\\All docum...</td>\n",
       "      <td>290</td>\n",
       "    </tr>\n",
       "    <tr>\n",
       "      <th>2</th>\n",
       "      <td>\\Phillip_Allen_June2001\\Notes Folders\\'sent mail</td>\n",
       "      <td>254</td>\n",
       "    </tr>\n",
       "    <tr>\n",
       "      <th>3</th>\n",
       "      <td>\\Phillip_Allen_June2001\\Notes Folders\\All docu...</td>\n",
       "      <td>108</td>\n",
       "    </tr>\n",
       "    <tr>\n",
       "      <th>4</th>\n",
       "      <td>\\Phillip_Allen_Jan2002_1\\Allen, Phillip K.\\'Se...</td>\n",
       "      <td>47</td>\n",
       "    </tr>\n",
       "  </tbody>\n",
       "</table>\n",
       "</div>"
      ],
      "text/plain": [
       "                                         Folder_name  Count\n",
       "0    \\Phillip_Allen_Dec2000\\Notes Folders\\'sent mail    301\n",
       "1  \\Phillip_Allen_Dec2000\\Notes Folders\\All docum...    290\n",
       "2   \\Phillip_Allen_June2001\\Notes Folders\\'sent mail    254\n",
       "3  \\Phillip_Allen_June2001\\Notes Folders\\All docu...    108\n",
       "4  \\Phillip_Allen_Jan2002_1\\Allen, Phillip K.\\'Se...     47"
      ]
     },
     "execution_count": 15,
     "metadata": {},
     "output_type": "execute_result"
    }
   ],
   "source": [
    "unique_emails = pd.DataFrame(df['X-Folder'].value_counts())\n",
    "unique_emails.reset_index(inplace=True)\n",
    "\n",
    "# show top 20 folder highest counts\n",
    "unique_emails.columns =['Folder_name','Count']\n",
    "unique_emails.iloc[:20,:]"
   ]
  },
  {
   "cell_type": "code",
   "execution_count": 16,
   "id": "8dc9d2b0",
   "metadata": {},
   "outputs": [
    {
     "data": {
      "image/png": "[encoded data removed]",
      "text/plain": [
       "<Figure size 1000x600 with 1 Axes>"
      ]
     },
     "metadata": {},
     "output_type": "display_data"
    }
   ],
   "source": [
    "plt.figure(figsize=(10,6))\n",
    "sns.barplot(x='Count',y='Folder_name',data=unique_emails.iloc[:20,:])\n",
    "plt.title(\"Top 20 Folder\")\n",
    "plt.xlabel('Count')\n",
    "plt.ylabel(\"Folder name \")\n",
    "plt.show()"
   ]
  },
  {
   "cell_type": "code",
   "execution_count": 17,
   "id": "50591ddc",
   "metadata": {},
   "outputs": [
    {
     "data": {
      "text/html": [
       "<div>\n",
       "<style scoped>\n",
       "    .dataframe tbody tr th:only-of-type {\n",
       "        vertical-align: middle;\n",
       "    }\n",
       "\n",
       "    .dataframe tbody tr th {\n",
       "        vertical-align: top;\n",
       "    }\n",
       "\n",
       "    .dataframe thead th {\n",
       "        text-align: right;\n",
       "    }\n",
       "</style>\n",
       "<table border=\"1\" class=\"dataframe\">\n",
       "  <thead>\n",
       "    <tr style=\"text-align: right;\">\n",
       "      <th></th>\n",
       "      <th>Employee Name</th>\n",
       "      <th>Count</th>\n",
       "    </tr>\n",
       "  </thead>\n",
       "  <tbody>\n",
       "    <tr>\n",
       "      <th>0</th>\n",
       "      <td>allen-p</td>\n",
       "      <td>1000</td>\n",
       "    </tr>\n",
       "  </tbody>\n",
       "</table>\n",
       "</div>"
      ],
      "text/plain": [
       "  Employee Name  Count\n",
       "0       allen-p   1000"
      ]
     },
     "execution_count": 17,
     "metadata": {},
     "output_type": "execute_result"
    }
   ],
   "source": [
    "# top email sender employees\n",
    "emp_data = pd.DataFrame(df['Employee'].value_counts())\n",
    "emp_data.reset_index(inplace=True)\n",
    "\n",
    "emp_data.columns =['Employee Name','Count']\n",
    "emp_data.iloc[:20,:]"
   ]
  },
  {
   "cell_type": "code",
   "execution_count": null,
   "id": "f65b1d1d",
   "metadata": {},
   "outputs": [],
   "source": []
  },
  {
   "cell_type": "code",
   "execution_count": null,
   "id": "1a7716bb",
   "metadata": {},
   "outputs": [],
   "source": []
  },
  {
   "cell_type": "code",
   "execution_count": null,
   "id": "67d6c837",
   "metadata": {},
   "outputs": [],
   "source": []
  }
 ],
 "metadata": {
  "kernelspec": {
   "display_name": "Python(ML_Models)",
   "language": "python",
   "name": "ml_models"
  },
  "language_info": {
   "codemirror_mode": {
    "name": "ipython",
    "version": 3
   },
   "file_extension": ".py",
   "mimetype": "text/x-python",
   "name": "python",
   "nbconvert_exporter": "python",
   "pygments_lexer": "ipython3",
   "version": "3.12.3"
  }
 },
 "nbformat": 4,
 "nbformat_minor": 5
}
