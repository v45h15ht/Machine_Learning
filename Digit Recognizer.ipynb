{
 "cells": [
  {
   "cell_type": "code",
   "execution_count": 1,
   "id": "1bb7879e",
   "metadata": {},
   "outputs": [],
   "source": [
    "import tensorflow\n",
    "from tensorflow import keras\n",
    "from tensorflow.keras import layers\n",
    "from IPython.display import Image\n",
    "from tensorflow.keras.datasets import mnist\n",
    "import cv2 \n",
    "import numpy as np\n",
    "import pandas as pd\n",
    "from PIL import Image as im\n",
    "import matplotlib.pyplot as plt\n",
    "import seaborn as sns\n",
    "from sklearn.naive_bayes import MultinomialNB\n",
    "from sklearn.neighbors import KNeighborsClassifier\n",
    "from sklearn.linear_model import LogisticRegression\n",
    "from sklearn.ensemble import RandomForestClassifier\n",
    "from sklearn.metrics import accuracy_score,precision_score,recall_score,f1_score\n",
    "from sklearn.metrics import confusion_matrix,classification_report\n",
    "from sklearn.model_selection import train_test_split\n",
    "from tensorflow.keras.callbacks import EarlyStopping"
   ]
  },
  {
   "cell_type": "code",
   "execution_count": 2,
   "id": "8c38f4c9",
   "metadata": {},
   "outputs": [],
   "source": [
    "df = pd.read_csv('./input/digit-recognizer/train.csv')"
   ]
  },
  {
   "cell_type": "code",
   "execution_count": 3,
   "id": "2aac908d",
   "metadata": {},
   "outputs": [],
   "source": [
    "y = df.label"
   ]
  },
  {
   "cell_type": "code",
   "execution_count": 5,
   "id": "c3f02bb3",
   "metadata": {},
   "outputs": [],
   "source": [
    "df = df.drop('label', axis=1)\n",
    "X = df.values.tolist()"
   ]
  },
  {
   "cell_type": "code",
   "execution_count": 6,
   "id": "c22c66bf",
   "metadata": {},
   "outputs": [],
   "source": [
    "y = np.array(y)\n",
    "X = np.array(X)\n",
    "X = X.reshape(-1, 28, 28)\n",
    "X = np.array(X)"
   ]
  },
  {
   "cell_type": "code",
   "execution_count": 7,
   "id": "a180f112",
   "metadata": {},
   "outputs": [
    {
     "data": {
      "image/png": "[encoded data removed]",
      "text/plain": [
       "<Figure size 500x500 with 9 Axes>"
      ]
     },
     "metadata": {},
     "output_type": "display_data"
    }
   ],
   "source": [
    "num_images_to_show = 9\n",
    "plt.figure(figsize=(5, 5))\n",
    "for i in range(num_images_to_show):\n",
    "    plt.subplot(3, 3, i + 1)\n",
    "    plt.imshow(X[i], cmap='gray')\n",
    "    plt.title(f\"Label: {y[i]}\")\n",
    "    plt.axis('off')\n",
    "plt.show()"
   ]
  },
  {
   "cell_type": "code",
   "execution_count": 8,
   "id": "373ee310",
   "metadata": {},
   "outputs": [
    {
     "data": {
      "text/plain": [
       "(42000, 28, 28)"
      ]
     },
     "execution_count": 8,
     "metadata": {},
     "output_type": "execute_result"
    }
   ],
   "source": [
    "np.shape(X)"
   ]
  },
  {
   "cell_type": "code",
   "execution_count": 9,
   "id": "9fdc0098",
   "metadata": {},
   "outputs": [],
   "source": [
    "X_train, X_test, y_train, y_test = train_test_split(X, y ,random_state=104, test_size=0.2, shuffle=True)"
   ]
  },
  {
   "cell_type": "code",
   "execution_count": 10,
   "id": "dfbe979e",
   "metadata": {},
   "outputs": [
    {
     "data": {
      "text/plain": [
       "(33600, 28, 28)"
      ]
     },
     "execution_count": 10,
     "metadata": {},
     "output_type": "execute_result"
    }
   ],
   "source": [
    "np.shape(X_train)"
   ]
  },
  {
   "cell_type": "markdown",
   "id": "d6f17dca",
   "metadata": {},
   "source": [
    "# Using Convolutional Neural Networks "
   ]
  },
  {
   "cell_type": "code",
   "execution_count": 11,
   "id": "2db34a64",
   "metadata": {},
   "outputs": [
    {
     "name": "stderr",
     "output_type": "stream",
     "text": [
      "E:\\ML\\ML_Models\\Lib\\site-packages\\keras\\src\\layers\\preprocessing\\tf_data_layer.py:19: UserWarning: Do not pass an `input_shape`/`input_dim` argument to a layer. When using Sequential models, prefer using an `Input(shape)` object as the first layer in the model instead.\n",
      "  super().__init__(**kwargs)\n"
     ]
    }
   ],
   "source": [
    "model_cnn = keras.Sequential([\n",
    "    layers.Rescaling(1./255, input_shape=(28, 28, 1)),\n",
    "    layers.Conv2D(16, 3, padding='same', activation='relu'),\n",
    "    layers.MaxPooling2D(),\n",
    "    layers.Conv2D(32, 3, padding='same', activation='relu'),\n",
    "    layers.MaxPooling2D(),\n",
    "    layers.Conv2D(64, 3, padding='same', activation='relu'),\n",
    "    layers.MaxPooling2D(),\n",
    "    layers.Flatten(),\n",
    "    layers.Dense(512, activation='relu'),\n",
    "    layers.Dense(256, activation='relu'),\n",
    "    layers.Dense(10)\n",
    "])"
   ]
  },
  {
   "cell_type": "code",
   "execution_count": 22,
   "id": "6644fb88",
   "metadata": {},
   "outputs": [],
   "source": [
    "model_cnn.compile(\n",
    "    loss=keras.losses.SparseCategoricalCrossentropy(from_logits=True),\n",
    "    optimizer=keras.optimizers.Adam(learning_rate=0.0005),#Try other optimizers like  Adagrade , Gradient decent with momentum ,RMSprop for diff accu\n",
    "    metrics=[\"accuracy\"],\n",
    ")"
   ]
  },
  {
   "cell_type": "code",
   "execution_count": 23,
   "id": "e435ccf7",
   "metadata": {},
   "outputs": [
    {
     "name": "stdout",
     "output_type": "stream",
     "text": [
      "Epoch 1/10\n",
      "1050/1050 - 9s - 9ms/step - accuracy: 0.9254 - loss: 0.2430\n",
      "Epoch 2/10\n",
      "1050/1050 - 8s - 7ms/step - accuracy: 0.9804 - loss: 0.0637\n",
      "Epoch 3/10\n",
      "1050/1050 - 8s - 7ms/step - accuracy: 0.9862 - loss: 0.0443\n",
      "Epoch 4/10\n",
      "1050/1050 - 8s - 7ms/step - accuracy: 0.9896 - loss: 0.0341\n",
      "Epoch 5/10\n",
      "1050/1050 - 8s - 7ms/step - accuracy: 0.9912 - loss: 0.0259\n",
      "Epoch 6/10\n",
      "1050/1050 - 8s - 7ms/step - accuracy: 0.9932 - loss: 0.0203\n",
      "Epoch 7/10\n",
      "1050/1050 - 8s - 7ms/step - accuracy: 0.9945 - loss: 0.0160\n",
      "Epoch 8/10\n",
      "1050/1050 - 8s - 7ms/step - accuracy: 0.9951 - loss: 0.0153\n",
      "Epoch 9/10\n",
      "1050/1050 - 8s - 7ms/step - accuracy: 0.9964 - loss: 0.0119\n",
      "Epoch 10/10\n",
      "1050/1050 - 8s - 7ms/step - accuracy: 0.9960 - loss: 0.0123\n"
     ]
    },
    {
     "data": {
      "text/plain": [
       "<keras.src.callbacks.history.History at 0x257e15f1f70>"
      ]
     },
     "execution_count": 23,
     "metadata": {},
     "output_type": "execute_result"
    }
   ],
   "source": [
    "early_stopping = EarlyStopping(\n",
    "    monitor='loss',\n",
    "    patience=5,\n",
    "    restore_best_weights=True\n",
    ")\n",
    "\n",
    "model_cnn.fit(X_train,y_train,batch_size=32,epochs=10,verbose=2,callbacks=[early_stopping])"
   ]
  },
  {
   "cell_type": "code",
   "execution_count": 24,
   "id": "11e37fe0",
   "metadata": {},
   "outputs": [
    {
     "name": "stdout",
     "output_type": "stream",
     "text": [
      "263/263 - 1s - 4ms/step - accuracy: 0.9905 - loss: 0.0417\n"
     ]
    },
    {
     "data": {
      "text/plain": [
       "[0.04165294021368027, 0.9904761910438538]"
      ]
     },
     "execution_count": 24,
     "metadata": {},
     "output_type": "execute_result"
    }
   ],
   "source": [
    "model_cnn.evaluate(X_test, y_test, batch_size=32, verbose=2)"
   ]
  },
  {
   "cell_type": "code",
   "execution_count": 25,
   "id": "e0419895",
   "metadata": {},
   "outputs": [
    {
     "name": "stdout",
     "output_type": "stream",
     "text": [
      "\u001b[1m263/263\u001b[0m \u001b[32m━━━━━━━━━━━━━━━━━━━━\u001b[0m\u001b[37m\u001b[0m \u001b[1m1s\u001b[0m 4ms/step\n"
     ]
    }
   ],
   "source": [
    "pred_cnn_arr = model_cnn.predict(X_test)\n",
    "pred_cnn = np.argmax(pred_cnn_arr,axis = 1) "
   ]
  },
  {
   "cell_type": "code",
   "execution_count": 26,
   "id": "60600366",
   "metadata": {},
   "outputs": [
    {
     "name": "stdout",
     "output_type": "stream",
     "text": [
      "The accuracy score is 99.04761904761905%\n"
     ]
    }
   ],
   "source": [
    "print(f\"The accuracy score is {accuracy_score(y_test, pred_cnn)*100}%\")"
   ]
  },
  {
   "cell_type": "markdown",
   "id": "c394da95",
   "metadata": {},
   "source": [
    "# Generate Submission csv"
   ]
  },
  {
   "cell_type": "code",
   "execution_count": 28,
   "id": "73d4bc18",
   "metadata": {},
   "outputs": [],
   "source": [
    "df1 = pd.read_csv('./input/digit-recognizer/test.csv')"
   ]
  },
  {
   "cell_type": "code",
   "execution_count": 29,
   "id": "bc8a9962",
   "metadata": {},
   "outputs": [],
   "source": [
    "X_sub = df1.values.tolist()"
   ]
  },
  {
   "cell_type": "code",
   "execution_count": 30,
   "id": "fe4292aa",
   "metadata": {},
   "outputs": [],
   "source": [
    "X_sub = np.array(X_sub)\n",
    "X_sub = X_sub.reshape(-1, 28, 28)"
   ]
  },
  {
   "cell_type": "code",
   "execution_count": null,
   "id": "62a7fd48",
   "metadata": {},
   "outputs": [],
   "source": []
  },
  {
   "cell_type": "code",
   "execution_count": 31,
   "id": "2e58287c",
   "metadata": {},
   "outputs": [
    {
     "name": "stderr",
     "output_type": "stream",
     "text": [
      "E:\\ML\\ML_Models\\Lib\\site-packages\\keras\\src\\layers\\preprocessing\\tf_data_layer.py:19: UserWarning: Do not pass an `input_shape`/`input_dim` argument to a layer. When using Sequential models, prefer using an `Input(shape)` object as the first layer in the model instead.\n",
      "  super().__init__(**kwargs)\n"
     ]
    }
   ],
   "source": [
    "model_cnn = keras.Sequential([\n",
    "    layers.Rescaling(1./255, input_shape=(28, 28, 1)),\n",
    "    layers.Conv2D(16, 3, padding='same', activation='relu'),\n",
    "    layers.MaxPooling2D(),\n",
    "    layers.Conv2D(32, 3, padding='same', activation='relu'),\n",
    "    layers.MaxPooling2D(),\n",
    "    layers.Conv2D(64, 3, padding='same', activation='relu'),\n",
    "    layers.MaxPooling2D(),\n",
    "    layers.Flatten(),\n",
    "    layers.Dense(512, activation='relu'),\n",
    "    layers.Dense(256, activation='relu'),\n",
    "    layers.Dense(10)\n",
    "])"
   ]
  },
  {
   "cell_type": "code",
   "execution_count": 32,
   "id": "8b2f6527",
   "metadata": {},
   "outputs": [],
   "source": [
    "model_cnn.compile(\n",
    "    loss=keras.losses.SparseCategoricalCrossentropy(from_logits=True),\n",
    "    optimizer=keras.optimizers.Adam(learning_rate=0.0005),#Try other optimizers like  Adagrade , Gradient decent with momentum ,RMSprop for diff accu\n",
    "    metrics=[\"accuracy\"],\n",
    ")"
   ]
  },
  {
   "cell_type": "code",
   "execution_count": 33,
   "id": "0751e107",
   "metadata": {},
   "outputs": [
    {
     "name": "stdout",
     "output_type": "stream",
     "text": [
      "Epoch 1/10\n",
      "1313/1313 - 11s - 8ms/step - accuracy: 0.9358 - loss: 0.2079\n",
      "Epoch 2/10\n",
      "1313/1313 - 9s - 7ms/step - accuracy: 0.9811 - loss: 0.0601\n",
      "Epoch 3/10\n",
      "1313/1313 - 9s - 7ms/step - accuracy: 0.9864 - loss: 0.0421\n",
      "Epoch 4/10\n",
      "1313/1313 - 9s - 7ms/step - accuracy: 0.9891 - loss: 0.0329\n",
      "Epoch 5/10\n",
      "1313/1313 - 9s - 7ms/step - accuracy: 0.9921 - loss: 0.0246\n",
      "Epoch 6/10\n",
      "1313/1313 - 9s - 7ms/step - accuracy: 0.9925 - loss: 0.0209\n",
      "Epoch 7/10\n",
      "1313/1313 - 10s - 7ms/step - accuracy: 0.9946 - loss: 0.0167\n",
      "Epoch 8/10\n",
      "1313/1313 - 10s - 8ms/step - accuracy: 0.9952 - loss: 0.0139\n",
      "Epoch 9/10\n",
      "1313/1313 - 10s - 7ms/step - accuracy: 0.9954 - loss: 0.0137\n",
      "Epoch 10/10\n",
      "1313/1313 - 10s - 7ms/step - accuracy: 0.9967 - loss: 0.0102\n"
     ]
    },
    {
     "data": {
      "text/plain": [
       "<keras.src.callbacks.history.History at 0x2582ac00b90>"
      ]
     },
     "execution_count": 33,
     "metadata": {},
     "output_type": "execute_result"
    }
   ],
   "source": [
    "early_stopping = EarlyStopping(\n",
    "    monitor='loss',\n",
    "    patience=5,\n",
    "    restore_best_weights=True\n",
    ")\n",
    "\n",
    "model_cnn.fit(X ,y ,batch_size=32, epochs=10, verbose=2, callbacks=[early_stopping])"
   ]
  },
  {
   "cell_type": "code",
   "execution_count": 34,
   "id": "32dee457",
   "metadata": {},
   "outputs": [
    {
     "name": "stdout",
     "output_type": "stream",
     "text": [
      "\u001b[1m875/875\u001b[0m \u001b[32m━━━━━━━━━━━━━━━━━━━━\u001b[0m\u001b[37m\u001b[0m \u001b[1m4s\u001b[0m 4ms/step\n"
     ]
    }
   ],
   "source": [
    "pred_cnn_arr = model_cnn.predict(X_sub)\n",
    "pred_cnn = np.argmax(pred_cnn_arr,axis = 1) "
   ]
  },
  {
   "cell_type": "code",
   "execution_count": null,
   "id": "f100e259",
   "metadata": {},
   "outputs": [],
   "source": []
  },
  {
   "cell_type": "code",
   "execution_count": 35,
   "id": "c884fca4",
   "metadata": {},
   "outputs": [],
   "source": [
    "ans = []\n",
    "for i in range(len(pred_cnn)):\n",
    "    ans.append([i+1, pred_cnn[i]])"
   ]
  },
  {
   "cell_type": "code",
   "execution_count": 36,
   "id": "4508ac18",
   "metadata": {},
   "outputs": [],
   "source": [
    "sub_csv = pd.DataFrame(ans, columns=['ImageId', 'Label'])"
   ]
  },
  {
   "cell_type": "code",
   "execution_count": 37,
   "id": "74d4ae38",
   "metadata": {},
   "outputs": [],
   "source": [
    "sub_csv.to_csv('./output/digit-recognizer/submission.csv', index=False)"
   ]
  }
 ],
 "metadata": {
  "kernelspec": {
   "display_name": "Python(ML_Models)",
   "language": "python",
   "name": "ml_models"
  },
  "language_info": {
   "codemirror_mode": {
    "name": "ipython",
    "version": 3
   },
   "file_extension": ".py",
   "mimetype": "text/x-python",
   "name": "python",
   "nbconvert_exporter": "python",
   "pygments_lexer": "ipython3",
   "version": "3.12.3"
  }
 },
 "nbformat": 4,
 "nbformat_minor": 5
}
